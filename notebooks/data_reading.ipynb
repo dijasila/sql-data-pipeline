{
 "cells": [
  {
   "cell_type": "code",
   "execution_count": null,
   "metadata": {},
   "outputs": [],
   "source": [
    "from src.data_reader import read_sql_data\n",
    "\n",
    "# Define your connection string and SQL query\n",
    "connection_string = 'sqlite:///path_to_your_database.db'\n",
    "query = 'SELECT * FROM your_table'\n",
    "\n",
    "# Read data from SQL\n",
    "df = read_sql_data(connection_string, query)\n",
    "print(df.head())"
   ]
  }
 ],
 "metadata": {
  "kernelspec": {
   "display_name": "Python 3",
   "language": "python",
   "name": "python3"
  },
  "language_info": {
   "codemirror_mode": {
    "name": "ipython",
    "version": 3
   },
   "file_extension": ".py",
   "mimetype": "text/x-python",
   "name": "python",
   "nbconvert_exporter": "python",
   "pygments_lexer": "ipython3",
   "version": "3.8.5"
  }
 },
 "nbformat": 4,
 "nbformat_minor": 4
}
